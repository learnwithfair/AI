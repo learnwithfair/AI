{
 "cells": [
  {
   "cell_type": "markdown",
   "id": "b27e677e",
   "metadata": {},
   "source": [
    "# Program 1"
   ]
  },
  {
   "cell_type": "code",
   "execution_count": 1,
   "id": "f3fa00a0",
   "metadata": {},
   "outputs": [],
   "source": [
    "#import statistics library\n",
    "import statistics as st"
   ]
  },
  {
   "cell_type": "code",
   "execution_count": 2,
   "id": "497c71dd",
   "metadata": {},
   "outputs": [
    {
     "name": "stdout",
     "output_type": "stream",
     "text": [
      "7\n"
     ]
    }
   ],
   "source": [
    "print(st.mean([1,3,5,7,9,11,13]))"
   ]
  },
  {
   "cell_type": "code",
   "execution_count": 3,
   "id": "b4504976",
   "metadata": {},
   "outputs": [
    {
     "name": "stdout",
     "output_type": "stream",
     "text": [
      "3.7777777777777777\n"
     ]
    }
   ],
   "source": [
    "print(st.mean([1,3,9,2,5,7,9,11,-13]))"
   ]
  },
  {
   "cell_type": "code",
   "execution_count": 4,
   "id": "8d309607",
   "metadata": {},
   "outputs": [
    {
     "name": "stdout",
     "output_type": "stream",
     "text": [
      "1.8666666666666667\n"
     ]
    }
   ],
   "source": [
    "print(st.mean([-11,5.5,-3.4,7.1,-9,22]))"
   ]
  },
  {
   "cell_type": "markdown",
   "id": "aa1d22bb",
   "metadata": {},
   "source": [
    "# Program 2"
   ]
  },
  {
   "cell_type": "code",
   "execution_count": 5,
   "id": "17a394bf",
   "metadata": {},
   "outputs": [
    {
     "name": "stdout",
     "output_type": "stream",
     "text": [
      "7\n"
     ]
    }
   ],
   "source": [
    "print(st.median([1,3,5,7,9,11,13]))"
   ]
  },
  {
   "cell_type": "code",
   "execution_count": 6,
   "id": "92e19c6f",
   "metadata": {},
   "outputs": [
    {
     "name": "stdout",
     "output_type": "stream",
     "text": [
      "5\n"
     ]
    }
   ],
   "source": [
    "print(st.median([1,3,9,2,5,7,9,11,-13]))"
   ]
  },
  {
   "cell_type": "code",
   "execution_count": 7,
   "id": "5e81107e",
   "metadata": {},
   "outputs": [
    {
     "name": "stdout",
     "output_type": "stream",
     "text": [
      "1.05\n"
     ]
    }
   ],
   "source": [
    "print(st.median([-11,5.5,-3.4,7.1,-9,22]))"
   ]
  },
  {
   "cell_type": "markdown",
   "id": "e6b75bc3",
   "metadata": {},
   "source": [
    "# Program 3 for Mode"
   ]
  },
  {
   "cell_type": "code",
   "execution_count": 8,
   "id": "fce4a86f",
   "metadata": {},
   "outputs": [
    {
     "name": "stdout",
     "output_type": "stream",
     "text": [
      "1\n"
     ]
    }
   ],
   "source": [
    "print(st.mode([1,3,5,7,9,11,13]))"
   ]
  },
  {
   "cell_type": "code",
   "execution_count": 9,
   "id": "a63aa0f9",
   "metadata": {},
   "outputs": [
    {
     "name": "stdout",
     "output_type": "stream",
     "text": [
      "9\n"
     ]
    }
   ],
   "source": [
    "print(st.mode([1,3,9,2,5,7,9,11,-13]))"
   ]
  },
  {
   "cell_type": "code",
   "execution_count": 13,
   "id": "716b525f",
   "metadata": {},
   "outputs": [
    {
     "name": "stdout",
     "output_type": "stream",
     "text": [
      "-11\n"
     ]
    }
   ],
   "source": [
    "print(st.mode([-11,5.5,-3.4,7.1,-9,22]))"
   ]
  },
  {
   "cell_type": "code",
   "execution_count": 15,
   "id": "28495d40",
   "metadata": {},
   "outputs": [
    {
     "name": "stdout",
     "output_type": "stream",
     "text": [
      "blue\n"
     ]
    }
   ],
   "source": [
    "print(st.mode(['red','green','blue','blue']))"
   ]
  },
  {
   "cell_type": "markdown",
   "id": "160dd0d6",
   "metadata": {},
   "source": [
    "# Program 4 for Standard Deviation"
   ]
  },
  {
   "cell_type": "code",
   "execution_count": 10,
   "id": "9883bf1d",
   "metadata": {},
   "outputs": [
    {
     "name": "stdout",
     "output_type": "stream",
     "text": [
      "7.172478263783338\n"
     ]
    }
   ],
   "source": [
    "print(st.stdev([1,3,9,2,5,7,9,11,-13]))"
   ]
  },
  {
   "cell_type": "code",
   "execution_count": 11,
   "id": "6660150b",
   "metadata": {},
   "outputs": [
    {
     "name": "stdout",
     "output_type": "stream",
     "text": [
      "12.307016968651123\n"
     ]
    }
   ],
   "source": [
    "print(st.stdev([-11,5.5,-3.4,7.1,-9,22]))"
   ]
  },
  {
   "cell_type": "markdown",
   "id": "394f91fd",
   "metadata": {},
   "source": [
    "# Program 5 for Variance"
   ]
  },
  {
   "cell_type": "code",
   "execution_count": 12,
   "id": "8abd427d",
   "metadata": {},
   "outputs": [
    {
     "name": "stdout",
     "output_type": "stream",
     "text": [
      "51.44444444444444\n"
     ]
    }
   ],
   "source": [
    "print(st.variance([1,3,9,2,5,7,9,11,-13]))"
   ]
  },
  {
   "cell_type": "code",
   "execution_count": 20,
   "id": "e99bcc0b",
   "metadata": {},
   "outputs": [
    {
     "name": "stdout",
     "output_type": "stream",
     "text": [
      "151.46266666666665\n"
     ]
    }
   ],
   "source": [
    "print(st.variance([-11,5.5,-3.4,7.1,-9,22]))"
   ]
  },
  {
   "cell_type": "code",
   "execution_count": null,
   "id": "4348e9c6",
   "metadata": {},
   "outputs": [],
   "source": []
  }
 ],
 "metadata": {
  "kernelspec": {
   "display_name": "Python 3 (ipykernel)",
   "language": "python",
   "name": "python3"
  },
  "language_info": {
   "codemirror_mode": {
    "name": "ipython",
    "version": 3
   },
   "file_extension": ".py",
   "mimetype": "text/x-python",
   "name": "python",
   "nbconvert_exporter": "python",
   "pygments_lexer": "ipython3",
   "version": "3.11.2"
  }
 },
 "nbformat": 4,
 "nbformat_minor": 5
}
