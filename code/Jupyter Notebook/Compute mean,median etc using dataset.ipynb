{
 "cells": [
  {
   "cell_type": "markdown",
   "id": "b27e677e",
   "metadata": {},
   "source": [
    "# Program 1"
   ]
  },
  {
   "cell_type": "code",
   "execution_count": 1,
   "id": "f3fa00a0",
   "metadata": {},
   "outputs": [
    {
     "name": "stdout",
     "output_type": "stream",
     "text": [
      "   num  weight  gender\n",
      "0    1     112    Male\n",
      "1    2     190    Male\n",
      "2    3     145  Female\n",
      "3    4     205    Male\n",
      "4    5     105  Female\n",
      "Dataset:    num  weight  gender\n",
      "0    1     112    Male\n",
      "1    2     190    Male\n",
      "2    3     145  Female\n",
      "3    4     205    Male\n",
      "4    5     105  Female\n",
      "Mean: 3.0\n",
      "Median: 3.0\n",
      "Mode: 1\n",
      "Variance: 2.0\n",
      "Standard Deviation: 1.41\n"
     ]
    },
    {
     "name": "stderr",
     "output_type": "stream",
     "text": [
      "C:\\Users\\Shahanur Rahman\\AppData\\Local\\Temp\\ipykernel_824\\2298664498.py:18: FutureWarning: Unlike other reduction functions (e.g. `skew`, `kurtosis`), the default behavior of `mode` typically preserves the axis it acts along. In SciPy 1.11.0, this behavior will change: the default value of `keepdims` will become False, the `axis` over which the statistic is taken will be eliminated, and the value None will no longer be accepted. Set `keepdims` to True or False to avoid this warning.\n",
      "  mode = stats.mode(data['num'])\n"
     ]
    }
   ],
   "source": [
    "##numpy means numericals python\n",
    "import numpy as np\n",
    "from scipy import stats\n",
    "import pandas as pd\n",
    "\n",
    "# Define a dataset\n",
    "# data = np.array([1, 2, 2, 3, 4, 4, 4, 5])\n",
    "data=pd.read_csv('dd.csv')\n",
    "data\n",
    "\n",
    "# Compute the mean\n",
    "mean = np.mean(data['num'])\n",
    "\n",
    "# # Compute the median\n",
    "median = np.median(data['num'])\n",
    "\n",
    "# # Compute the mode\n",
    "mode = stats.mode(data['num'])\n",
    "mode_val = mode.mode[0]\n",
    "\n",
    "# # Compute the variance\n",
    "variance = np.var(data['num'])\n",
    "\n",
    "# # Compute the standard deviation\n",
    "std_dev = np.std(data['num'])\n",
    "std_dev= round(std_dev,2);\n",
    "\n",
    "# # Print the results\n",
    "print(data)\n",
    "print('Dataset:', data)\n",
    "print('Mean:', mean)\n",
    "print('Median:', median)\n",
    "print('Mode:', mode_val)\n",
    "print('Variance:', variance)\n",
    "print('Standard Deviation:', std_dev)"
   ]
  },
  {
   "cell_type": "code",
   "execution_count": null,
   "id": "4348e9c6",
   "metadata": {},
   "outputs": [],
   "source": []
  }
 ],
 "metadata": {
  "kernelspec": {
   "display_name": "Python 3 (ipykernel)",
   "language": "python",
   "name": "python3"
  },
  "language_info": {
   "codemirror_mode": {
    "name": "ipython",
    "version": 3
   },
   "file_extension": ".py",
   "mimetype": "text/x-python",
   "name": "python",
   "nbconvert_exporter": "python",
   "pygments_lexer": "ipython3",
   "version": "3.11.2"
  }
 },
 "nbformat": 4,
 "nbformat_minor": 5
}
