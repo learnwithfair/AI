{
 "cells": [
  {
   "cell_type": "code",
   "execution_count": null,
   "id": "9683c608",
   "metadata": {},
   "outputs": [],
   "source": [
    "### Find S algorithm just positive value niye kaj kore\n",
    "import pandas as pd\n",
    "import numpy as np\n",
    "data=pd.read_csv('data.csv')\n",
    "data"
   ]
  },
  {
   "cell_type": "code",
   "execution_count": null,
   "id": "dbbd93f8",
   "metadata": {},
   "outputs": [],
   "source": []
  },
  {
   "cell_type": "code",
   "execution_count": null,
   "id": "d6ab7684",
   "metadata": {},
   "outputs": [],
   "source": [
    "# leave the last column\n",
    "concept=np.array(data)[:,:-1]\n",
    "# only access the last column\n",
    "target=np.array(data)[:,-1]\n",
    "print(concept)\n",
    "target"
   ]
  },
  {
   "cell_type": "code",
   "execution_count": null,
   "id": "fc64d83f",
   "metadata": {},
   "outputs": [],
   "source": [
    "def train(concept,target):\n",
    "    for i,value in enumerate(target):\n",
    "        if value.lower()=='yes':\n",
    "            specific_h=concept[i].copy()\n",
    "            break\n",
    "    for i,value in enumerate(concept):\n",
    "        if target[i].lower()=='yes':\n",
    "            for x in range(len(specific_h)):\n",
    "                if value[x]!=specific_h[x]:\n",
    "                    specific_h[x]='?'\n",
    "                else:\n",
    "                    pass;\n",
    "    return specific_h"
   ]
  },
  {
   "cell_type": "code",
   "execution_count": null,
   "id": "e2541bc9",
   "metadata": {},
   "outputs": [],
   "source": []
  },
  {
   "cell_type": "code",
   "execution_count": null,
   "id": "7e01968b",
   "metadata": {},
   "outputs": [],
   "source": [
    "result=train(concept,target)\n",
    "print(result)"
   ]
  },
  {
   "cell_type": "code",
   "execution_count": null,
   "id": "9242c010",
   "metadata": {},
   "outputs": [],
   "source": [
    "day=input(\"Enter 6 word to check:\")\n",
    "day=day.split()\n",
    "check=True"
   ]
  },
  {
   "cell_type": "code",
   "execution_count": null,
   "id": "945a9fe9",
   "metadata": {},
   "outputs": [],
   "source": [
    "for i in range(len(result)):\n",
    "    if result[i]=='?'or result[i]==day[i]:\n",
    "        check=True;\n",
    "    else:\n",
    "        check=False;\n",
    "        break;\n",
    "if check:\n",
    "    print(\"Enjoy sport\")\n",
    "else:\n",
    "    print(\"Not Possible\")"
   ]
  },
  {
   "cell_type": "code",
   "execution_count": null,
   "id": "f2e36474",
   "metadata": {},
   "outputs": [],
   "source": []
  },
  {
   "cell_type": "code",
   "execution_count": null,
   "id": "93e76a98",
   "metadata": {},
   "outputs": [],
   "source": []
  }
 ],
 "metadata": {
  "kernelspec": {
   "display_name": "Python 3 (ipykernel)",
   "language": "python",
   "name": "python3"
  },
  "language_info": {
   "codemirror_mode": {
    "name": "ipython",
    "version": 3
   },
   "file_extension": ".py",
   "mimetype": "text/x-python",
   "name": "python",
   "nbconvert_exporter": "python",
   "pygments_lexer": "ipython3",
   "version": "3.11.2"
  }
 },
 "nbformat": 4,
 "nbformat_minor": 5
}
